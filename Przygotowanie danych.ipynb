{
 "cells": [
  {
   "cell_type": "markdown",
   "metadata": {},
   "source": [
    "# Przygotowanie danych"
   ]
  },
  {
   "cell_type": "markdown",
   "metadata": {},
   "source": [
    "### Wczytanie niezbędnych bibliotek"
   ]
  },
  {
   "cell_type": "code",
   "execution_count": 1,
   "metadata": {},
   "outputs": [],
   "source": [
    "import pandas as pd\n",
    "from nltk.tokenize import word_tokenize\n",
    "from dateutil import parser\n",
    "import dateparser\n",
    "\n",
    "import re\n",
    "import requests\n",
    "from nltk.stem.snowball import SnowballStemmer\n",
    "import nltk\n",
    "from nltk.corpus import stopwords\n",
    "from collections import Counter\n",
    "from wordcloud import WordCloud, STOPWORDS\n",
    "from nltk.tokenize import word_tokenize\n",
    "from nltk.stem import PorterStemmer,WordNetLemmatizer\n"
   ]
  },
  {
   "cell_type": "markdown",
   "metadata": {},
   "source": [
    "### Wczytanie danych"
   ]
  },
  {
   "cell_type": "code",
   "execution_count": 2,
   "metadata": {},
   "outputs": [
    {
     "data": {
      "text/plain": [
       "633"
      ]
     },
     "execution_count": 2,
     "metadata": {},
     "output_type": "execute_result"
    }
   ],
   "source": [
    "df = pd.read_csv('df_nowe.csv')\n",
    "df.shape[0]"
   ]
  },
  {
   "cell_type": "code",
   "execution_count": 4,
   "metadata": {},
   "outputs": [
    {
     "data": {
      "text/html": [
       "<div>\n",
       "<style scoped>\n",
       "    .dataframe tbody tr th:only-of-type {\n",
       "        vertical-align: middle;\n",
       "    }\n",
       "\n",
       "    .dataframe tbody tr th {\n",
       "        vertical-align: top;\n",
       "    }\n",
       "\n",
       "    .dataframe thead th {\n",
       "        text-align: right;\n",
       "    }\n",
       "</style>\n",
       "<table border=\"1\" class=\"dataframe\">\n",
       "  <thead>\n",
       "    <tr style=\"text-align: right;\">\n",
       "      <th></th>\n",
       "      <th>Unnamed: 0.1</th>\n",
       "      <th>Unnamed: 0</th>\n",
       "      <th>Nazwa oferty</th>\n",
       "      <th>Lokalizacja</th>\n",
       "      <th>Data dodania</th>\n",
       "      <th>Powierzchnia w m²</th>\n",
       "      <th>Cena za 1m²</th>\n",
       "      <th>Kwota</th>\n",
       "      <th>Link</th>\n",
       "      <th>Poziom</th>\n",
       "      <th>Umeblowane</th>\n",
       "      <th>Liczba pokoi</th>\n",
       "      <th>Opis</th>\n",
       "    </tr>\n",
       "  </thead>\n",
       "  <tbody>\n",
       "    <tr>\n",
       "      <th>0</th>\n",
       "      <td>0</td>\n",
       "      <td>0</td>\n",
       "      <td>Mieszkanie do sprzedaży Katowice Bogucice 2 pok.</td>\n",
       "      <td>Katowice, Bogucice</td>\n",
       "      <td>Dzisiaj o 14:16</td>\n",
       "      <td>42,70 m²</td>\n",
       "      <td>8173.3 zł/m²</td>\n",
       "      <td>349 000 zł</td>\n",
       "      <td>https://www.otodom.pl/pl/oferta/mieszkanie-do-...</td>\n",
       "      <td>1/10</td>\n",
       "      <td>do zamieszkania</td>\n",
       "      <td>2</td>\n",
       "      <td>Oferujemy do sprzedaży 2 pokojowe mieszkanie o...</td>\n",
       "    </tr>\n",
       "    <tr>\n",
       "      <th>1</th>\n",
       "      <td>1</td>\n",
       "      <td>1</td>\n",
       "      <td>Okazja! Super mieszkanie ul. Adama! 62 m2 5 pi...</td>\n",
       "      <td>Katowice, Giszowiec</td>\n",
       "      <td>Dzisiaj o 17:24</td>\n",
       "      <td>62 m²</td>\n",
       "      <td>5951.61 zł/m²</td>\n",
       "      <td>369 000 zł</td>\n",
       "      <td>https://www.olx.pl/d/oferta/okazja-super-miesz...</td>\n",
       "      <td>5</td>\n",
       "      <td>Nie</td>\n",
       "      <td>3 pokoje</td>\n",
       "      <td>Agencje proszę nie dzwonić, chyba ze z zainter...</td>\n",
       "    </tr>\n",
       "    <tr>\n",
       "      <th>2</th>\n",
       "      <td>2</td>\n",
       "      <td>2</td>\n",
       "      <td>SUPERJEDNOSTKA - zachodnie mieszkanie do wejścia</td>\n",
       "      <td>Katowice</td>\n",
       "      <td>12 grudnia 2023</td>\n",
       "      <td>47,40 m²</td>\n",
       "      <td>9978.9 zł/m²</td>\n",
       "      <td>473 000 zł</td>\n",
       "      <td>https://www.otodom.pl/pl/oferta/superjednostka...</td>\n",
       "      <td>7/15</td>\n",
       "      <td>do zamieszkania</td>\n",
       "      <td>2</td>\n",
       "      <td>Mamy przyjemność przedstawić Państwu mieszkani...</td>\n",
       "    </tr>\n",
       "    <tr>\n",
       "      <th>3</th>\n",
       "      <td>3</td>\n",
       "      <td>3</td>\n",
       "      <td>Przestronne 3 pok.mieszkanie przy Parku Kościu...</td>\n",
       "      <td>Katowice</td>\n",
       "      <td>07 grudnia 2023</td>\n",
       "      <td>73,38 m²</td>\n",
       "      <td>5444.26 zł/m²</td>\n",
       "      <td>399 500 zł</td>\n",
       "      <td>https://www.otodom.pl/pl/oferta/przestronne-3-...</td>\n",
       "      <td>2/4</td>\n",
       "      <td>do remontu</td>\n",
       "      <td>3</td>\n",
       "      <td>MOŻLIWOŚĆ ZAKUPU MIESZKANIA W RAMACH RZĄDOWEGO...</td>\n",
       "    </tr>\n",
       "    <tr>\n",
       "      <th>4</th>\n",
       "      <td>5</td>\n",
       "      <td>5</td>\n",
       "      <td>Znakomite 3 pok. mieszkanie 53,4m2 Katowice-Mu...</td>\n",
       "      <td>Katowice, Murcki</td>\n",
       "      <td>25 listopada 2023</td>\n",
       "      <td>53,37 m²</td>\n",
       "      <td>8993.82 zł/m²</td>\n",
       "      <td>480 000 zł</td>\n",
       "      <td>https://www.otodom.pl/pl/oferta/znakomite-3-po...</td>\n",
       "      <td>2/3</td>\n",
       "      <td>do zamieszkania</td>\n",
       "      <td>3</td>\n",
       "      <td>Znakomite 3 pok. mieszkanie 53,4m2 Katowice-Mu...</td>\n",
       "    </tr>\n",
       "  </tbody>\n",
       "</table>\n",
       "</div>"
      ],
      "text/plain": [
       "   Unnamed: 0.1  Unnamed: 0  \\\n",
       "0             0           0   \n",
       "1             1           1   \n",
       "2             2           2   \n",
       "3             3           3   \n",
       "4             5           5   \n",
       "\n",
       "                                        Nazwa oferty          Lokalizacja  \\\n",
       "0   Mieszkanie do sprzedaży Katowice Bogucice 2 pok.   Katowice, Bogucice   \n",
       "1  Okazja! Super mieszkanie ul. Adama! 62 m2 5 pi...  Katowice, Giszowiec   \n",
       "2   SUPERJEDNOSTKA - zachodnie mieszkanie do wejścia             Katowice   \n",
       "3  Przestronne 3 pok.mieszkanie przy Parku Kościu...             Katowice   \n",
       "4  Znakomite 3 pok. mieszkanie 53,4m2 Katowice-Mu...     Katowice, Murcki   \n",
       "\n",
       "        Data dodania Powierzchnia w m²    Cena za 1m²       Kwota  \\\n",
       "0    Dzisiaj o 14:16          42,70 m²   8173.3 zł/m²  349 000 zł   \n",
       "1    Dzisiaj o 17:24             62 m²  5951.61 zł/m²  369 000 zł   \n",
       "2    12 grudnia 2023          47,40 m²   9978.9 zł/m²  473 000 zł   \n",
       "3    07 grudnia 2023          73,38 m²  5444.26 zł/m²  399 500 zł   \n",
       "4  25 listopada 2023          53,37 m²  8993.82 zł/m²  480 000 zł   \n",
       "\n",
       "                                                Link Poziom       Umeblowane  \\\n",
       "0  https://www.otodom.pl/pl/oferta/mieszkanie-do-...   1/10  do zamieszkania   \n",
       "1  https://www.olx.pl/d/oferta/okazja-super-miesz...      5              Nie   \n",
       "2  https://www.otodom.pl/pl/oferta/superjednostka...   7/15  do zamieszkania   \n",
       "3  https://www.otodom.pl/pl/oferta/przestronne-3-...    2/4       do remontu   \n",
       "4  https://www.otodom.pl/pl/oferta/znakomite-3-po...    2/3  do zamieszkania   \n",
       "\n",
       "  Liczba pokoi                                               Opis  \n",
       "0            2  Oferujemy do sprzedaży 2 pokojowe mieszkanie o...  \n",
       "1     3 pokoje  Agencje proszę nie dzwonić, chyba ze z zainter...  \n",
       "2            2  Mamy przyjemność przedstawić Państwu mieszkani...  \n",
       "3            3  MOŻLIWOŚĆ ZAKUPU MIESZKANIA W RAMACH RZĄDOWEGO...  \n",
       "4            3  Znakomite 3 pok. mieszkanie 53,4m2 Katowice-Mu...  "
      ]
     },
     "execution_count": 4,
     "metadata": {},
     "output_type": "execute_result"
    }
   ],
   "source": [
    "df.head()"
   ]
  },
  {
   "cell_type": "markdown",
   "metadata": {},
   "source": [
    "### Sprawdzenie, czy faktycznie wszystkie oferty pochodzą z miasta Katowice\n"
   ]
  },
  {
   "cell_type": "code",
   "execution_count": 7,
   "metadata": {},
   "outputs": [
    {
     "data": {
      "text/html": [
       "<div>\n",
       "<style scoped>\n",
       "    .dataframe tbody tr th:only-of-type {\n",
       "        vertical-align: middle;\n",
       "    }\n",
       "\n",
       "    .dataframe tbody tr th {\n",
       "        vertical-align: top;\n",
       "    }\n",
       "\n",
       "    .dataframe thead th {\n",
       "        text-align: right;\n",
       "    }\n",
       "</style>\n",
       "<table border=\"1\" class=\"dataframe\">\n",
       "  <thead>\n",
       "    <tr style=\"text-align: right;\">\n",
       "      <th></th>\n",
       "      <th>Unnamed: 0.1</th>\n",
       "      <th>Unnamed: 0</th>\n",
       "      <th>Nazwa oferty</th>\n",
       "      <th>Lokalizacja</th>\n",
       "      <th>Data dodania</th>\n",
       "      <th>Powierzchnia w m²</th>\n",
       "      <th>Cena za 1m²</th>\n",
       "      <th>Kwota</th>\n",
       "      <th>Link</th>\n",
       "      <th>Poziom</th>\n",
       "      <th>Umeblowane</th>\n",
       "      <th>Liczba pokoi</th>\n",
       "      <th>Opis</th>\n",
       "    </tr>\n",
       "  </thead>\n",
       "  <tbody>\n",
       "    <tr>\n",
       "      <th>603</th>\n",
       "      <td>776</td>\n",
       "      <td>776</td>\n",
       "      <td>Przestronne mieszkanie z widokiem! Ogromny salon!</td>\n",
       "      <td>Dąbrowa Górnicza</td>\n",
       "      <td>21 listopada 2023</td>\n",
       "      <td>76,50 m²</td>\n",
       "      <td>6784.31 zł/m²</td>\n",
       "      <td>519 000 zł</td>\n",
       "      <td>https://www.otodom.pl/pl/oferta/przestronne-mi...</td>\n",
       "      <td>parter/2</td>\n",
       "      <td>do zamieszkania</td>\n",
       "      <td>3</td>\n",
       "      <td>Oferuję na sprzedaż mieszkanie w Śródmieściu B...</td>\n",
       "    </tr>\n",
       "    <tr>\n",
       "      <th>604</th>\n",
       "      <td>777</td>\n",
       "      <td>777</td>\n",
       "      <td>Mieszkanie w prestiżowej dzielnicy Bytomia na ...</td>\n",
       "      <td>Bytom</td>\n",
       "      <td>09 grudnia 2023</td>\n",
       "      <td>41 m²</td>\n",
       "      <td>5487.8 zł/m²</td>\n",
       "      <td>225 000 złdo negocjacji</td>\n",
       "      <td>https://www.olx.pl/d/oferta/mieszkanie-w-prest...</td>\n",
       "      <td>2/3</td>\n",
       "      <td>do zamieszkania</td>\n",
       "      <td>2</td>\n",
       "      <td>Przestronne, dwupokojowe mieszkanie w Bytomiu....</td>\n",
       "    </tr>\n",
       "    <tr>\n",
       "      <th>605</th>\n",
       "      <td>778</td>\n",
       "      <td>778</td>\n",
       "      <td>Komfortowe mieszkanie Bytom Śródmieście</td>\n",
       "      <td>Bytom</td>\n",
       "      <td>Dzisiaj o 06:14</td>\n",
       "      <td>68,84 m²</td>\n",
       "      <td>5360.26 zł/m²</td>\n",
       "      <td>369 000 zł</td>\n",
       "      <td>https://www.otodom.pl/pl/oferta/komfortowe-mie...</td>\n",
       "      <td>parter/3</td>\n",
       "      <td>do remontu</td>\n",
       "      <td>3</td>\n",
       "      <td>[b]Posiadamy w ofercie na sprzedaż mieszkanie ...</td>\n",
       "    </tr>\n",
       "    <tr>\n",
       "      <th>606</th>\n",
       "      <td>780</td>\n",
       "      <td>780</td>\n",
       "      <td>Mieszkanie 3pok. Bytom-Wożniaka</td>\n",
       "      <td>Bytom</td>\n",
       "      <td>07 grudnia 2023</td>\n",
       "      <td>63 m²</td>\n",
       "      <td>3634.92 zł/m²</td>\n",
       "      <td>229 000 zł</td>\n",
       "      <td>https://www.otodom.pl/pl/oferta/mieszkanie-3po...</td>\n",
       "      <td>3/3</td>\n",
       "      <td>do zamieszkania</td>\n",
       "      <td>3</td>\n",
       "      <td>Przedstawiamy Państwu ofertę sprzedaży 4 - pok...</td>\n",
       "    </tr>\n",
       "    <tr>\n",
       "      <th>607</th>\n",
       "      <td>781</td>\n",
       "      <td>781</td>\n",
       "      <td>Przestronne 4 pok. mieszkanie w Centrum Bytomia</td>\n",
       "      <td>Bytom</td>\n",
       "      <td>18 listopada 2023</td>\n",
       "      <td>104,38 m²</td>\n",
       "      <td>3889.63 zł/m²</td>\n",
       "      <td>406 000 zł</td>\n",
       "      <td>https://www.otodom.pl/pl/oferta/przestronne-4-...</td>\n",
       "      <td>3/3</td>\n",
       "      <td>do zamieszkania</td>\n",
       "      <td>3</td>\n",
       "      <td>Przedstawiam Państwu wyjątkową ofertę sprzedaż...</td>\n",
       "    </tr>\n",
       "  </tbody>\n",
       "</table>\n",
       "</div>"
      ],
      "text/plain": [
       "     Unnamed: 0.1  Unnamed: 0  \\\n",
       "603           776         776   \n",
       "604           777         777   \n",
       "605           778         778   \n",
       "606           780         780   \n",
       "607           781         781   \n",
       "\n",
       "                                          Nazwa oferty       Lokalizacja  \\\n",
       "603  Przestronne mieszkanie z widokiem! Ogromny salon!  Dąbrowa Górnicza   \n",
       "604  Mieszkanie w prestiżowej dzielnicy Bytomia na ...             Bytom   \n",
       "605            Komfortowe mieszkanie Bytom Śródmieście             Bytom   \n",
       "606                    Mieszkanie 3pok. Bytom-Wożniaka             Bytom   \n",
       "607    Przestronne 4 pok. mieszkanie w Centrum Bytomia             Bytom   \n",
       "\n",
       "          Data dodania Powierzchnia w m²    Cena za 1m²  \\\n",
       "603  21 listopada 2023          76,50 m²  6784.31 zł/m²   \n",
       "604    09 grudnia 2023             41 m²   5487.8 zł/m²   \n",
       "605    Dzisiaj o 06:14          68,84 m²  5360.26 zł/m²   \n",
       "606    07 grudnia 2023             63 m²  3634.92 zł/m²   \n",
       "607  18 listopada 2023         104,38 m²  3889.63 zł/m²   \n",
       "\n",
       "                       Kwota  \\\n",
       "603               519 000 zł   \n",
       "604  225 000 złdo negocjacji   \n",
       "605               369 000 zł   \n",
       "606               229 000 zł   \n",
       "607               406 000 zł   \n",
       "\n",
       "                                                  Link    Poziom  \\\n",
       "603  https://www.otodom.pl/pl/oferta/przestronne-mi...  parter/2   \n",
       "604  https://www.olx.pl/d/oferta/mieszkanie-w-prest...       2/3   \n",
       "605  https://www.otodom.pl/pl/oferta/komfortowe-mie...  parter/3   \n",
       "606  https://www.otodom.pl/pl/oferta/mieszkanie-3po...       3/3   \n",
       "607  https://www.otodom.pl/pl/oferta/przestronne-4-...       3/3   \n",
       "\n",
       "          Umeblowane Liczba pokoi  \\\n",
       "603  do zamieszkania            3   \n",
       "604  do zamieszkania            2   \n",
       "605       do remontu            3   \n",
       "606  do zamieszkania            3   \n",
       "607  do zamieszkania            3   \n",
       "\n",
       "                                                  Opis  \n",
       "603  Oferuję na sprzedaż mieszkanie w Śródmieściu B...  \n",
       "604  Przestronne, dwupokojowe mieszkanie w Bytomiu....  \n",
       "605  [b]Posiadamy w ofercie na sprzedaż mieszkanie ...  \n",
       "606  Przedstawiamy Państwu ofertę sprzedaży 4 - pok...  \n",
       "607  Przedstawiam Państwu wyjątkową ofertę sprzedaż...  "
      ]
     },
     "execution_count": 7,
     "metadata": {},
     "output_type": "execute_result"
    }
   ],
   "source": [
    "df[~df['Lokalizacja'].str.contains('Katowice')].head()"
   ]
  },
  {
   "cell_type": "markdown",
   "metadata": {},
   "source": [
    "Jak możemy zauważyć zostały pobrane oferty nie tylko dla Katowic, ale także dla innych miejscowości obok Katowic. Wynika to z faktu iż na ostatniej stronie po skończeniu się ofert dla Katowic są wyświetlane również oferty z okolic. Nalezy więc usunąć te oferty."
   ]
  },
  {
   "cell_type": "code",
   "execution_count": 6,
   "metadata": {},
   "outputs": [],
   "source": [
    "df = df[df['Lokalizacja'].str.contains('Katowice')]"
   ]
  },
  {
   "cell_type": "code",
   "execution_count": 8,
   "metadata": {},
   "outputs": [
    {
     "name": "stdout",
     "output_type": "stream",
     "text": [
      "Liczba wierszy: 603\n"
     ]
    }
   ],
   "source": [
    "liczba_wierszy = df.shape[0]\n",
    "print(\"Liczba wierszy:\", liczba_wierszy)"
   ]
  },
  {
   "cell_type": "code",
   "execution_count": 9,
   "metadata": {},
   "outputs": [],
   "source": [
    "df = df.drop(df.columns[0], axis=1)"
   ]
  },
  {
   "cell_type": "markdown",
   "metadata": {},
   "source": [
    "### I. Usunięcie duplikatów"
   ]
  },
  {
   "cell_type": "code",
   "execution_count": 8,
   "metadata": {},
   "outputs": [
    {
     "name": "stdout",
     "output_type": "stream",
     "text": [
      "Liczba wierszy po usunięciu duplikatów: 426\n"
     ]
    }
   ],
   "source": [
    "df.drop_duplicates(subset='Nazwa oferty', keep='first', inplace=True)\n",
    "liczba_wierszy1 = df.shape[0]\n",
    "print(\"Liczba wierszy po usunięciu duplikatów:\", liczba_wierszy1)"
   ]
  },
  {
   "cell_type": "markdown",
   "metadata": {},
   "source": [
    "### II. Sprawdzenie braków danych i ich usunięcie "
   ]
  },
  {
   "cell_type": "code",
   "execution_count": 11,
   "metadata": {},
   "outputs": [
    {
     "name": "stdout",
     "output_type": "stream",
     "text": [
      "Liczba brakujących danych w poszczególnych kolumnach:\n"
     ]
    },
    {
     "data": {
      "text/plain": [
       "Unnamed: 0            0\n",
       "Nazwa oferty          0\n",
       "Lokalizacja           0\n",
       "Data dodania          0\n",
       "Powierzchnia w m²     0\n",
       "Cena za 1m²           0\n",
       "Kwota                 0\n",
       "Link                  0\n",
       "Poziom                6\n",
       "Umeblowane           49\n",
       "Liczba pokoi          0\n",
       "Opis                  0\n",
       "dtype: int64"
      ]
     },
     "execution_count": 11,
     "metadata": {},
     "output_type": "execute_result"
    }
   ],
   "source": [
    "braki_danych = df.isnull().sum()\n",
    "\n",
    "print(\"Liczba brakujących danych w poszczególnych kolumnach:\")\n",
    "braki_danych"
   ]
  },
  {
   "cell_type": "code",
   "execution_count": 12,
   "metadata": {},
   "outputs": [
    {
     "name": "stdout",
     "output_type": "stream",
     "text": [
      "DataFrame po usunięciu wierszy z brakującymi danymi:\n"
     ]
    },
    {
     "data": {
      "text/html": [
       "<div>\n",
       "<style scoped>\n",
       "    .dataframe tbody tr th:only-of-type {\n",
       "        vertical-align: middle;\n",
       "    }\n",
       "\n",
       "    .dataframe tbody tr th {\n",
       "        vertical-align: top;\n",
       "    }\n",
       "\n",
       "    .dataframe thead th {\n",
       "        text-align: right;\n",
       "    }\n",
       "</style>\n",
       "<table border=\"1\" class=\"dataframe\">\n",
       "  <thead>\n",
       "    <tr style=\"text-align: right;\">\n",
       "      <th></th>\n",
       "      <th>Unnamed: 0</th>\n",
       "      <th>Nazwa oferty</th>\n",
       "      <th>Lokalizacja</th>\n",
       "      <th>Data dodania</th>\n",
       "      <th>Powierzchnia w m²</th>\n",
       "      <th>Cena za 1m²</th>\n",
       "      <th>Kwota</th>\n",
       "      <th>Link</th>\n",
       "      <th>Poziom</th>\n",
       "      <th>Umeblowane</th>\n",
       "      <th>Liczba pokoi</th>\n",
       "      <th>Opis</th>\n",
       "    </tr>\n",
       "  </thead>\n",
       "  <tbody>\n",
       "    <tr>\n",
       "      <th>0</th>\n",
       "      <td>0</td>\n",
       "      <td>Mieszkanie do sprzedaży Katowice Bogucice 2 pok.</td>\n",
       "      <td>Katowice, Bogucice</td>\n",
       "      <td>Dzisiaj o 14:16</td>\n",
       "      <td>42,70 m²</td>\n",
       "      <td>8173.3 zł/m²</td>\n",
       "      <td>349 000 zł</td>\n",
       "      <td>https://www.otodom.pl/pl/oferta/mieszkanie-do-...</td>\n",
       "      <td>1/10</td>\n",
       "      <td>do zamieszkania</td>\n",
       "      <td>2</td>\n",
       "      <td>Oferujemy do sprzedaży 2 pokojowe mieszkanie o...</td>\n",
       "    </tr>\n",
       "    <tr>\n",
       "      <th>1</th>\n",
       "      <td>1</td>\n",
       "      <td>Okazja! Super mieszkanie ul. Adama! 62 m2 5 pi...</td>\n",
       "      <td>Katowice, Giszowiec</td>\n",
       "      <td>Dzisiaj o 17:24</td>\n",
       "      <td>62 m²</td>\n",
       "      <td>5951.61 zł/m²</td>\n",
       "      <td>369 000 zł</td>\n",
       "      <td>https://www.olx.pl/d/oferta/okazja-super-miesz...</td>\n",
       "      <td>5</td>\n",
       "      <td>Nie</td>\n",
       "      <td>3 pokoje</td>\n",
       "      <td>Agencje proszę nie dzwonić, chyba ze z zainter...</td>\n",
       "    </tr>\n",
       "    <tr>\n",
       "      <th>2</th>\n",
       "      <td>2</td>\n",
       "      <td>SUPERJEDNOSTKA - zachodnie mieszkanie do wejścia</td>\n",
       "      <td>Katowice</td>\n",
       "      <td>12 grudnia 2023</td>\n",
       "      <td>47,40 m²</td>\n",
       "      <td>9978.9 zł/m²</td>\n",
       "      <td>473 000 zł</td>\n",
       "      <td>https://www.otodom.pl/pl/oferta/superjednostka...</td>\n",
       "      <td>7/15</td>\n",
       "      <td>do zamieszkania</td>\n",
       "      <td>2</td>\n",
       "      <td>Mamy przyjemność przedstawić Państwu mieszkani...</td>\n",
       "    </tr>\n",
       "    <tr>\n",
       "      <th>3</th>\n",
       "      <td>3</td>\n",
       "      <td>Przestronne 3 pok.mieszkanie przy Parku Kościu...</td>\n",
       "      <td>Katowice</td>\n",
       "      <td>07 grudnia 2023</td>\n",
       "      <td>73,38 m²</td>\n",
       "      <td>5444.26 zł/m²</td>\n",
       "      <td>399 500 zł</td>\n",
       "      <td>https://www.otodom.pl/pl/oferta/przestronne-3-...</td>\n",
       "      <td>2/4</td>\n",
       "      <td>do remontu</td>\n",
       "      <td>3</td>\n",
       "      <td>MOŻLIWOŚĆ ZAKUPU MIESZKANIA W RAMACH RZĄDOWEGO...</td>\n",
       "    </tr>\n",
       "    <tr>\n",
       "      <th>4</th>\n",
       "      <td>5</td>\n",
       "      <td>Znakomite 3 pok. mieszkanie 53,4m2 Katowice-Mu...</td>\n",
       "      <td>Katowice, Murcki</td>\n",
       "      <td>25 listopada 2023</td>\n",
       "      <td>53,37 m²</td>\n",
       "      <td>8993.82 zł/m²</td>\n",
       "      <td>480 000 zł</td>\n",
       "      <td>https://www.otodom.pl/pl/oferta/znakomite-3-po...</td>\n",
       "      <td>2/3</td>\n",
       "      <td>do zamieszkania</td>\n",
       "      <td>3</td>\n",
       "      <td>Znakomite 3 pok. mieszkanie 53,4m2 Katowice-Mu...</td>\n",
       "    </tr>\n",
       "  </tbody>\n",
       "</table>\n",
       "</div>"
      ],
      "text/plain": [
       "   Unnamed: 0                                       Nazwa oferty   \n",
       "0           0   Mieszkanie do sprzedaży Katowice Bogucice 2 pok.  \\\n",
       "1           1  Okazja! Super mieszkanie ul. Adama! 62 m2 5 pi...   \n",
       "2           2   SUPERJEDNOSTKA - zachodnie mieszkanie do wejścia   \n",
       "3           3  Przestronne 3 pok.mieszkanie przy Parku Kościu...   \n",
       "4           5  Znakomite 3 pok. mieszkanie 53,4m2 Katowice-Mu...   \n",
       "\n",
       "           Lokalizacja       Data dodania Powierzchnia w m²    Cena za 1m²   \n",
       "0   Katowice, Bogucice    Dzisiaj o 14:16          42,70 m²   8173.3 zł/m²  \\\n",
       "1  Katowice, Giszowiec    Dzisiaj o 17:24             62 m²  5951.61 zł/m²   \n",
       "2             Katowice    12 grudnia 2023          47,40 m²   9978.9 zł/m²   \n",
       "3             Katowice    07 grudnia 2023          73,38 m²  5444.26 zł/m²   \n",
       "4     Katowice, Murcki  25 listopada 2023          53,37 m²  8993.82 zł/m²   \n",
       "\n",
       "        Kwota                                               Link Poziom   \n",
       "0  349 000 zł  https://www.otodom.pl/pl/oferta/mieszkanie-do-...   1/10  \\\n",
       "1  369 000 zł  https://www.olx.pl/d/oferta/okazja-super-miesz...      5   \n",
       "2  473 000 zł  https://www.otodom.pl/pl/oferta/superjednostka...   7/15   \n",
       "3  399 500 zł  https://www.otodom.pl/pl/oferta/przestronne-3-...    2/4   \n",
       "4  480 000 zł  https://www.otodom.pl/pl/oferta/znakomite-3-po...    2/3   \n",
       "\n",
       "        Umeblowane Liczba pokoi   \n",
       "0  do zamieszkania            2  \\\n",
       "1              Nie     3 pokoje   \n",
       "2  do zamieszkania            2   \n",
       "3       do remontu            3   \n",
       "4  do zamieszkania            3   \n",
       "\n",
       "                                                Opis  \n",
       "0  Oferujemy do sprzedaży 2 pokojowe mieszkanie o...  \n",
       "1  Agencje proszę nie dzwonić, chyba ze z zainter...  \n",
       "2  Mamy przyjemność przedstawić Państwu mieszkani...  \n",
       "3  MOŻLIWOŚĆ ZAKUPU MIESZKANIA W RAMACH RZĄDOWEGO...  \n",
       "4  Znakomite 3 pok. mieszkanie 53,4m2 Katowice-Mu...  "
      ]
     },
     "execution_count": 12,
     "metadata": {},
     "output_type": "execute_result"
    }
   ],
   "source": [
    "df = df.dropna()\n",
    "\n",
    "liczba_wierszy = df.shape[0]\n",
    "print(\"Liczba wierszy po usunięci braków danych:\", liczba_wierszy)"
   ]
  },
  {
   "cell_type": "code",
   "execution_count": 14,
   "metadata": {},
   "outputs": [],
   "source": [
    "df.reset_index(drop=True, inplace=True)\n"
   ]
  },
  {
   "cell_type": "markdown",
   "metadata": {},
   "source": [
    "### III. Ujednolicenie wartości w kolumn dla ofert OLX oraz OTODOM"
   ]
  },
  {
   "cell_type": "markdown",
   "metadata": {},
   "source": [
    "Forma zapisu wartości dla poszczegółnych atrybutów na OLX różni się od formy zapisu na platformie OTODOM. Należy więc ujednoliczić zapis dla poprawnego przetwarzania tych danych. "
   ]
  },
  {
   "cell_type": "markdown",
   "metadata": {},
   "source": [
    "##### Kolumna 'Umeblowanie'"
   ]
  },
  {
   "cell_type": "markdown",
   "metadata": {},
   "source": [
    "Wartości dla kolumny 'Umeblowanie' w ofertach OLX są zapisywane jako 'Tak' lub 'Nie', natomiast OTODOM używa zapisów takich jak: 'do remontu','do wykończenia', 'do zamieszkania'. Zinterpretowano więc że, oferta 'do zamieszkania' oznacza, że jest umeblowane, a 'do wykończenia' lub 'do remontu', że mieszkanie nie jest umeblowane. W związku z tym ujednolicono zapis na formę stosowaną przez OLX."
   ]
  },
  {
   "cell_type": "code",
   "execution_count": 15,
   "metadata": {},
   "outputs": [
    {
     "data": {
      "text/plain": [
       "0      Tak\n",
       "1      Nie\n",
       "2      Tak\n",
       "3      Nie\n",
       "4      Tak\n",
       "      ... \n",
       "369    Nie\n",
       "370    Nie\n",
       "371    Nie\n",
       "372    Nie\n",
       "373    Tak\n",
       "Name: Umeblowane, Length: 374, dtype: object"
      ]
     },
     "execution_count": 15,
     "metadata": {},
     "output_type": "execute_result"
    }
   ],
   "source": [
    "df[\"Umeblowane\"] = df[\"Umeblowane\"].replace({\n",
    "    'do zamieszkania': 'Tak',\n",
    "    'do wykończenia': 'Nie',\n",
    "    'do remontu': 'Nie',\n",
    "    \n",
    "})\n",
    "\n",
    "df['Umeblowane']"
   ]
  },
  {
   "cell_type": "markdown",
   "metadata": {},
   "source": [
    "##### Kolumna 'Liczba pokoi'"
   ]
  },
  {
   "cell_type": "markdown",
   "metadata": {},
   "source": [
    "Również w przypadku kolumny 'Liczba pokoi' zapis na stronach się różni. Na OLX jest zapis jedynie  formie wartości liczbowej, natomiast na OTODOM jest dodane słowo 'pokój/pokoje'. W związku z tym zostanie wybrana jedynie wartośc liczbowa."
   ]
  },
  {
   "cell_type": "code",
   "execution_count": 16,
   "metadata": {},
   "outputs": [],
   "source": [
    "df['Liczba pokoi'] = df['Liczba pokoi'].str[0]"
   ]
  },
  {
   "cell_type": "markdown",
   "metadata": {},
   "source": [
    "##### Kolumna 'Poziom'"
   ]
  },
  {
   "cell_type": "markdown",
   "metadata": {},
   "source": [
    "W przypadku kolumny 'Poziom' dla ofert OTODOM poza poznaczeniem pietra na którym się znajduje mieszkanie, jest również infomacja ile jest łącznie pięter. Usunięto więc infromacje ile jest pięter, czyli wybrano tylko to co jest prze znakiem \"/\"."
   ]
  },
  {
   "cell_type": "code",
   "execution_count": 17,
   "metadata": {},
   "outputs": [],
   "source": [
    "df[\"Poziom\"] = df[\"Poziom\"].str.split(\"/\").str[0]"
   ]
  },
  {
   "cell_type": "markdown",
   "metadata": {},
   "source": [
    "##### Kolumna 'Kwota'"
   ]
  },
  {
   "cell_type": "markdown",
   "metadata": {},
   "source": [
    "W kolumnie 'Kwota' dla ofert OTODOM, w niektórych przypadkach jest również informacja czy cena jest do negocjacji. Aby zapis był jednolity dla obu platform usunięto tą informację."
   ]
  },
  {
   "cell_type": "code",
   "execution_count": 18,
   "metadata": {},
   "outputs": [
    {
     "data": {
      "text/plain": [
       "0      349 000\n",
       "1      369 000\n",
       "2      473 000\n",
       "3      399 500\n",
       "4      480 000\n",
       "        ...   \n",
       "369    983 925\n",
       "370    449 000\n",
       "371    399 000\n",
       "372    503 800\n",
       "373    490 630\n",
       "Name: Kwota, Length: 374, dtype: object"
      ]
     },
     "execution_count": 18,
     "metadata": {},
     "output_type": "execute_result"
    }
   ],
   "source": [
    "\n",
    "df['Kwota'] = df['Kwota'].str.extract('(\\d+\\s?\\d*)', expand=False)\n",
    "df['Kwota'] \n"
   ]
  },
  {
   "cell_type": "markdown",
   "metadata": {},
   "source": [
    "### IV. Usunięcie znaków tekstowych przy wartościach liczbowych w kolumnach "
   ]
  },
  {
   "cell_type": "markdown",
   "metadata": {},
   "source": [
    "W celu dalszej analizy i mozliwych porblemów z konwerowaniem danych, w kolumnach z wartościami liczbowymi takimi jak 'Cena za m2' czy 'Powierzchnia' usunięto dane tekstowe."
   ]
  },
  {
   "cell_type": "markdown",
   "metadata": {},
   "source": [
    "##### Kolumna 'Cena za m2'"
   ]
  },
  {
   "cell_type": "code",
   "execution_count": 19,
   "metadata": {},
   "outputs": [
    {
     "data": {
      "text/plain": [
       "0       8173.3\n",
       "1      5951.61\n",
       "2       9978.9\n",
       "3      5444.26\n",
       "4      8993.82\n",
       "        ...   \n",
       "369    8803.12\n",
       "370     7080.9\n",
       "371    6927.08\n",
       "372    8780.06\n",
       "373    8538.64\n",
       "Name: Cena za 1m², Length: 374, dtype: object"
      ]
     },
     "execution_count": 19,
     "metadata": {},
     "output_type": "execute_result"
    }
   ],
   "source": [
    "df['Cena za 1m²'] = df['Cena za 1m²'].str.replace(' zł/m²', '')\n",
    "df['Cena za 1m²']"
   ]
  },
  {
   "cell_type": "markdown",
   "metadata": {},
   "source": [
    "##### Kolumna 'Powierzchnia w m2'"
   ]
  },
  {
   "cell_type": "code",
   "execution_count": 20,
   "metadata": {},
   "outputs": [
    {
     "data": {
      "text/plain": [
       "0       42,70\n",
       "1          62\n",
       "2       47,40\n",
       "3       73,38\n",
       "4       53,37\n",
       "        ...  \n",
       "369    111,77\n",
       "370     63,41\n",
       "371     57,60\n",
       "372     57,38\n",
       "373     57,46\n",
       "Name: Powierzchnia w m², Length: 374, dtype: object"
      ]
     },
     "execution_count": 20,
     "metadata": {},
     "output_type": "execute_result"
    }
   ],
   "source": [
    "df['Powierzchnia w m²'] = df['Powierzchnia w m²'].str.replace(' m²', '')\n",
    "df['Powierzchnia w m²']"
   ]
  },
  {
   "cell_type": "markdown",
   "metadata": {},
   "source": [
    "### V. Wyodrębnienie Dzielnic w Katowicach"
   ]
  },
  {
   "cell_type": "markdown",
   "metadata": {},
   "source": [
    "Po dokonaniu analizy można zauważyć, że wiele ofert nie ma jasno sprecyzowanej okolicy w której znajduje się wystawione na sprzedaż mieszkanie (istanieje jedynie nazwa'Katowice').Natomiast wiele ofert posiada  szczegółowe opisy, które już zawierają taką informacje. Zdecydowano się więc na przeprowadzenie analizy tekstu w celu wyodrębnienia nazw tych dzielnic w celu uzupełniania braków danych"
   ]
  },
  {
   "cell_type": "markdown",
   "metadata": {},
   "source": [
    "#### 1. Wyodrębnienie dzielnic z tabeli 'Lokalizacja'"
   ]
  },
  {
   "cell_type": "markdown",
   "metadata": {},
   "source": [
    "W pierwszym etapie z kolumny 'Lokalizacja' wyodrębniono nazwy dzilenic i usunięto kolumnę 'Lokalizacja', która nie będzie już potrzebna w dalszej części analizy"
   ]
  },
  {
   "cell_type": "code",
   "execution_count": 21,
   "metadata": {},
   "outputs": [],
   "source": [
    "def process_location(location):\n",
    "    if isinstance(location, str):\n",
    "        parts = location.split(', ')\n",
    "        if len(parts) > 1:\n",
    "            return parts[1]\n",
    "    return None\n",
    "\n",
    "df['Dzielnica'] = df['Lokalizacja'].apply(process_location)"
   ]
  },
  {
   "cell_type": "markdown",
   "metadata": {},
   "source": [
    "##### 2. Utworzenie słownika"
   ]
  },
  {
   "cell_type": "markdown",
   "metadata": {},
   "source": [
    " Utworzono słownik wyrazów na podstawie którego algorytm będzie przeszukiwał opis oferty w celu wyodrębnienia dzielnicy. W słowniku zawarto orginalne uniklane nazwy odzilenic oraz zazwyczaj odmieniane nazwy tych dzielnic w opisach."
   ]
  },
  {
   "cell_type": "code",
   "execution_count": 22,
   "metadata": {},
   "outputs": [],
   "source": [
    "unikalne_lokalizacje = df['Dzielnica'].unique().tolist()"
   ]
  },
  {
   "cell_type": "code",
   "execution_count": 23,
   "metadata": {},
   "outputs": [],
   "source": [
    "słowa_klucz=['ligota-panewniki','podlesie','kostuchna','srodmiescie','murcki','dab','piotrowice-ochojec','bogucice','welnowiec-jozefowiec','osiedle tysiaclecia','szopienice-burowiec',\n",
    "             'koszutka','dabrówka mała','osiedle paderewskiego-muchowiec','zaleze','janow-nikiszowiec','giszowiec','zawodzie','osiedle witosa','zaleska halda-brynow cz. zach.',\n",
    "             'brynow-cz. wsch.-osiedle zgrzebioka','zarzecze','ligota','podlesiu','kostuchnie','srodmiesciu','murckach','dabie','piotrowicach','bogucicach','welnowcu','tysiaclecia',\n",
    "             'szopienicach','koszutce','dabrowce','paderewskiego','zalezu','nikiszowcu','giszowcu','zawodziu','witosa','zaleskiej','brynowie','zarzeczu','ligota','brynow','tysiaclecie','janow','janosie'\n",
    "             'nikoszowiec','welnowiec','jozefowiec','muchowiec','muchowcu','zagrzebionka','zagrzebionce']"
   ]
  },
  {
   "cell_type": "code",
   "execution_count": 24,
   "metadata": {},
   "outputs": [
    {
     "data": {
      "text/plain": [
       "0      Oferujemy do sprzedaży 2 pokojowe mieszkanie o...\n",
       "1      Agencje proszę nie dzwonić, chyba ze z zainter...\n",
       "2      Mamy przyjemność przedstawić Państwu mieszkani...\n",
       "3      MOŻLIWOŚĆ ZAKUPU MIESZKANIA W RAMACH RZĄDOWEGO...\n",
       "4      Znakomite 3 pok. mieszkanie 53,4m2 Katowice-Mu...\n",
       "                             ...                        \n",
       "369    Oferuję Państwu do sprzedaży przestronne i roz...\n",
       "370    Przedmiotem ogłoszenia jest 2-pokojowe mieszka...\n",
       "371    Przedmiotem ogłoszenia jest 3-pokojowe mieszka...\n",
       "372    1-pokojowe mieszkanie numer a.1.1.02  na 1. pi...\n",
       "373    Na sprzedaż w pełni wyposażona, komfortowa kaw...\n",
       "Name: Opis, Length: 374, dtype: object"
      ]
     },
     "execution_count": 24,
     "metadata": {},
     "output_type": "execute_result"
    }
   ],
   "source": [
    "dane=df['Opis']\n",
    "dane"
   ]
  },
  {
   "cell_type": "markdown",
   "metadata": {},
   "source": [
    "##### 3. Zamiana tekstu na małe litery"
   ]
  },
  {
   "cell_type": "code",
   "execution_count": 25,
   "metadata": {},
   "outputs": [],
   "source": [
    "with open('stopwords.txt', 'r', encoding='utf-8') as file:\n",
    "    stop_words = file.read().splitlines()\n",
    "\n",
    "custom_stop_words = ['f','m']\n",
    "\n",
    "stop_words += custom_stop_words\n",
    "    "
   ]
  },
  {
   "cell_type": "code",
   "execution_count": 26,
   "metadata": {},
   "outputs": [],
   "source": [
    "def clean_text(text):\n",
    "    text = re.sub(\"\\s{2,}\", \" \", text)\n",
    "    text = re.sub(\"(\\r\\n|\\r|\\n)\", \" \", text)\n",
    "    text = re.sub('\\s+', ' ', text)\n",
    "    text = text.lower()\n",
    "    text = re.sub(\"[!\\\"#$%&'()*+,-./:;<=>?@[\\]^_`{|}~]\", \" \", text)\n",
    "    text = re.sub(\"\\d\", \"\", text)\n",
    "    text = re.sub(\"\\s{2,}\", \" \", text)\n",
    "    text = re.sub(\":\\w+:\", \"\", text)  # Remove emoticons in the format \":emoticon_name:\"\n",
    "    text = re.sub('[^\\w\\s]', '', text)\n",
    "    return text"
   ]
  },
  {
   "cell_type": "code",
   "execution_count": 27,
   "metadata": {},
   "outputs": [],
   "source": [
    "df['Opis oczyszczony'] = dane.apply(clean_text)"
   ]
  },
  {
   "cell_type": "markdown",
   "metadata": {},
   "source": [
    "#### 4. Tokenizacja"
   ]
  },
  {
   "cell_type": "code",
   "execution_count": 28,
   "metadata": {},
   "outputs": [],
   "source": [
    "def tokenize_text(text):\n",
    "    return word_tokenize(text)\n",
    "\n",
    "df['Opis oczyszczony'] = df['Opis oczyszczony'].apply(tokenize_text)"
   ]
  },
  {
   "cell_type": "markdown",
   "metadata": {},
   "source": [
    "Przeprowadzono tokenizację tekstu w celu wyodrębnienia pojedynczych słów."
   ]
  },
  {
   "cell_type": "markdown",
   "metadata": {},
   "source": [
    "#### 5. Stopwords"
   ]
  },
  {
   "cell_type": "code",
   "execution_count": 29,
   "metadata": {},
   "outputs": [],
   "source": [
    "def remove_stopwords(tokens):\n",
    "    return [token for token in tokens if token.lower() not in stop_words]\n",
    "\n",
    "df['Opis oczyszczony'] = df['Opis oczyszczony'].apply(remove_stopwords)"
   ]
  },
  {
   "cell_type": "code",
   "execution_count": 30,
   "metadata": {},
   "outputs": [
    {
     "data": {
      "text/html": [
       "<div>\n",
       "<style scoped>\n",
       "    .dataframe tbody tr th:only-of-type {\n",
       "        vertical-align: middle;\n",
       "    }\n",
       "\n",
       "    .dataframe tbody tr th {\n",
       "        vertical-align: top;\n",
       "    }\n",
       "\n",
       "    .dataframe thead th {\n",
       "        text-align: right;\n",
       "    }\n",
       "</style>\n",
       "<table border=\"1\" class=\"dataframe\">\n",
       "  <thead>\n",
       "    <tr style=\"text-align: right;\">\n",
       "      <th></th>\n",
       "      <th>Unnamed: 0</th>\n",
       "      <th>Nazwa oferty</th>\n",
       "      <th>Lokalizacja</th>\n",
       "      <th>Data dodania</th>\n",
       "      <th>Powierzchnia w m²</th>\n",
       "      <th>Cena za 1m²</th>\n",
       "      <th>Kwota</th>\n",
       "      <th>Link</th>\n",
       "      <th>Poziom</th>\n",
       "      <th>Umeblowane</th>\n",
       "      <th>Liczba pokoi</th>\n",
       "      <th>Opis</th>\n",
       "      <th>Dzielnica</th>\n",
       "      <th>Opis oczyszczony</th>\n",
       "    </tr>\n",
       "  </thead>\n",
       "  <tbody>\n",
       "    <tr>\n",
       "      <th>25</th>\n",
       "      <td>33</td>\n",
       "      <td>Dwupoziomowe Mieszkanie Katowice</td>\n",
       "      <td>Katowice, Piotrowice-Ochojec</td>\n",
       "      <td>12 grudnia 2023</td>\n",
       "      <td>139</td>\n",
       "      <td>5755.4</td>\n",
       "      <td>800 000</td>\n",
       "      <td>https://www.otodom.pl/pl/oferta/dwupoziomowe-m...</td>\n",
       "      <td>7</td>\n",
       "      <td>Tak</td>\n",
       "      <td>5</td>\n",
       "      <td>Szukasz mieszkania bez nakładów finansowych?  ...</td>\n",
       "      <td>Piotrowice-Ochojec</td>\n",
       "      <td>[szukasz, mieszkania, nakładów, finansowych, z...</td>\n",
       "    </tr>\n",
       "    <tr>\n",
       "      <th>57</th>\n",
       "      <td>92</td>\n",
       "      <td>Apartamentowiec-dobra cena/Recepcja/Klima/CENTRUM</td>\n",
       "      <td>Katowice</td>\n",
       "      <td>12 grudnia 2023</td>\n",
       "      <td>115,70</td>\n",
       "      <td>6913.57</td>\n",
       "      <td>799 900</td>\n",
       "      <td>https://www.otodom.pl/pl/oferta/apartamentowie...</td>\n",
       "      <td>7</td>\n",
       "      <td>Tak</td>\n",
       "      <td>5</td>\n",
       "      <td>Dzień dobry Sprzedam bardzo ładne mieszkanie w...</td>\n",
       "      <td>None</td>\n",
       "      <td>[dzień, dobry, sprzedam, ładne, mieszkanie, ap...</td>\n",
       "    </tr>\n",
       "    <tr>\n",
       "      <th>121</th>\n",
       "      <td>209</td>\n",
       "      <td>Dwupoziomowy Penthouse Katowice Ochojec</td>\n",
       "      <td>Katowice</td>\n",
       "      <td>12 grudnia 2023</td>\n",
       "      <td>104,90</td>\n",
       "      <td>7168.73</td>\n",
       "      <td>752 000</td>\n",
       "      <td>https://www.otodom.pl/pl/oferta/dwupoziomowy-p...</td>\n",
       "      <td>7</td>\n",
       "      <td>Tak</td>\n",
       "      <td>5</td>\n",
       "      <td>Penthouse Katowice – ul. Ziołowa 43A Cena 7520...</td>\n",
       "      <td>None</td>\n",
       "      <td>[penthouse, katowice, ul, ziołowa, cena, miesz...</td>\n",
       "    </tr>\n",
       "    <tr>\n",
       "      <th>145</th>\n",
       "      <td>249</td>\n",
       "      <td>REZERWACJA. 5 kawalerek ROI 10%</td>\n",
       "      <td>Katowice, Śródmieście</td>\n",
       "      <td>19 listopada 2023</td>\n",
       "      <td>118,18</td>\n",
       "      <td>7268.57</td>\n",
       "      <td>859 000</td>\n",
       "      <td>https://www.otodom.pl/pl/oferta/rezerwacja-5-k...</td>\n",
       "      <td>3</td>\n",
       "      <td>Tak</td>\n",
       "      <td>5</td>\n",
       "      <td>Oferujemy pakiet 5 WYNAJĘTYCH kawalerek na spr...</td>\n",
       "      <td>Śródmieście</td>\n",
       "      <td>[oferujemy, pakiet, wynajętych, kawalerek, spr...</td>\n",
       "    </tr>\n",
       "    <tr>\n",
       "      <th>149</th>\n",
       "      <td>254</td>\n",
       "      <td>Mieszkanie - Katowice Piotrowice</td>\n",
       "      <td>Katowice, Piotrowice-Ochojec</td>\n",
       "      <td>17 listopada 2023</td>\n",
       "      <td>131,59</td>\n",
       "      <td>5729.92</td>\n",
       "      <td>754 000</td>\n",
       "      <td>https://www.otodom.pl/pl/oferta/mieszkanie-kat...</td>\n",
       "      <td>1</td>\n",
       "      <td>Nie</td>\n",
       "      <td>5</td>\n",
       "      <td>Oferuję do sprzedaży bezczynszowy lokal położo...</td>\n",
       "      <td>Piotrowice-Ochojec</td>\n",
       "      <td>[oferuję, sprzedaży, bezczynszowy, lokal, poło...</td>\n",
       "    </tr>\n",
       "    <tr>\n",
       "      <th>171</th>\n",
       "      <td>291</td>\n",
       "      <td>5-pokojowe mieszkanie 161m2 Bezpośrednio</td>\n",
       "      <td>Katowice, Koszutka</td>\n",
       "      <td>17 listopada 2023</td>\n",
       "      <td>161,24</td>\n",
       "      <td>11813.28</td>\n",
       "      <td>1 904</td>\n",
       "      <td>https://www.otodom.pl/pl/oferta/5-pokojowe-mie...</td>\n",
       "      <td>&gt; 10</td>\n",
       "      <td>Nie</td>\n",
       "      <td>5</td>\n",
       "      <td>5-pokojowe mieszkanie numer a.1.30.03  na 30. ...</td>\n",
       "      <td>Koszutka</td>\n",
       "      <td>[pokojowe, mieszkanie, numer, piętrze, budynku...</td>\n",
       "    </tr>\n",
       "    <tr>\n",
       "      <th>214</th>\n",
       "      <td>356</td>\n",
       "      <td>5-pokojowe mieszkanie 113m2 + balkon Bez Prowizji</td>\n",
       "      <td>Katowice, Piotrowice-Ochojec</td>\n",
       "      <td>01 grudnia 2023</td>\n",
       "      <td>113,10</td>\n",
       "      <td>10200</td>\n",
       "      <td>1 153</td>\n",
       "      <td>https://www.otodom.pl/pl/oferta/5-pokojowe-mie...</td>\n",
       "      <td>7</td>\n",
       "      <td>Nie</td>\n",
       "      <td>5</td>\n",
       "      <td>5-pokojowe mieszkanie numer G7-02  na 7. piętr...</td>\n",
       "      <td>Piotrowice-Ochojec</td>\n",
       "      <td>[pokojowe, mieszkanie, numer, g, piętrze, budy...</td>\n",
       "    </tr>\n",
       "  </tbody>\n",
       "</table>\n",
       "</div>"
      ],
      "text/plain": [
       "     Unnamed: 0                                       Nazwa oferty   \n",
       "25           33                   Dwupoziomowe Mieszkanie Katowice  \\\n",
       "57           92  Apartamentowiec-dobra cena/Recepcja/Klima/CENTRUM   \n",
       "121         209            Dwupoziomowy Penthouse Katowice Ochojec   \n",
       "145         249                    REZERWACJA. 5 kawalerek ROI 10%   \n",
       "149         254                   Mieszkanie - Katowice Piotrowice   \n",
       "171         291           5-pokojowe mieszkanie 161m2 Bezpośrednio   \n",
       "214         356  5-pokojowe mieszkanie 113m2 + balkon Bez Prowizji   \n",
       "\n",
       "                      Lokalizacja       Data dodania Powierzchnia w m²   \n",
       "25   Katowice, Piotrowice-Ochojec    12 grudnia 2023               139  \\\n",
       "57                       Katowice    12 grudnia 2023            115,70   \n",
       "121                      Katowice    12 grudnia 2023            104,90   \n",
       "145         Katowice, Śródmieście  19 listopada 2023            118,18   \n",
       "149  Katowice, Piotrowice-Ochojec  17 listopada 2023            131,59   \n",
       "171            Katowice, Koszutka  17 listopada 2023            161,24   \n",
       "214  Katowice, Piotrowice-Ochojec    01 grudnia 2023            113,10   \n",
       "\n",
       "    Cena za 1m²    Kwota                                               Link   \n",
       "25       5755.4  800 000  https://www.otodom.pl/pl/oferta/dwupoziomowe-m...  \\\n",
       "57      6913.57  799 900  https://www.otodom.pl/pl/oferta/apartamentowie...   \n",
       "121     7168.73  752 000  https://www.otodom.pl/pl/oferta/dwupoziomowy-p...   \n",
       "145     7268.57  859 000  https://www.otodom.pl/pl/oferta/rezerwacja-5-k...   \n",
       "149     5729.92  754 000  https://www.otodom.pl/pl/oferta/mieszkanie-kat...   \n",
       "171    11813.28    1 904  https://www.otodom.pl/pl/oferta/5-pokojowe-mie...   \n",
       "214       10200    1 153  https://www.otodom.pl/pl/oferta/5-pokojowe-mie...   \n",
       "\n",
       "    Poziom Umeblowane Liczba pokoi   \n",
       "25       7        Tak            5  \\\n",
       "57       7        Tak            5   \n",
       "121      7        Tak            5   \n",
       "145      3        Tak            5   \n",
       "149      1        Nie            5   \n",
       "171   > 10        Nie            5   \n",
       "214      7        Nie            5   \n",
       "\n",
       "                                                  Opis           Dzielnica   \n",
       "25   Szukasz mieszkania bez nakładów finansowych?  ...  Piotrowice-Ochojec  \\\n",
       "57   Dzień dobry Sprzedam bardzo ładne mieszkanie w...                None   \n",
       "121  Penthouse Katowice – ul. Ziołowa 43A Cena 7520...                None   \n",
       "145  Oferujemy pakiet 5 WYNAJĘTYCH kawalerek na spr...         Śródmieście   \n",
       "149  Oferuję do sprzedaży bezczynszowy lokal położo...  Piotrowice-Ochojec   \n",
       "171  5-pokojowe mieszkanie numer a.1.30.03  na 30. ...            Koszutka   \n",
       "214  5-pokojowe mieszkanie numer G7-02  na 7. piętr...  Piotrowice-Ochojec   \n",
       "\n",
       "                                      Opis oczyszczony  \n",
       "25   [szukasz, mieszkania, nakładów, finansowych, z...  \n",
       "57   [dzień, dobry, sprzedam, ładne, mieszkanie, ap...  \n",
       "121  [penthouse, katowice, ul, ziołowa, cena, miesz...  \n",
       "145  [oferujemy, pakiet, wynajętych, kawalerek, spr...  \n",
       "149  [oferuję, sprzedaży, bezczynszowy, lokal, poło...  \n",
       "171  [pokojowe, mieszkanie, numer, piętrze, budynku...  \n",
       "214  [pokojowe, mieszkanie, numer, g, piętrze, budy...  "
      ]
     },
     "execution_count": 30,
     "metadata": {},
     "output_type": "execute_result"
    }
   ],
   "source": [
    "oferty_5_pokoi = df[df['Liczba pokoi'] == '5']\n",
    "oferty_5_pokoi"
   ]
  },
  {
   "cell_type": "markdown",
   "metadata": {},
   "source": [
    "##### 6. Przeprowadzenie wyodrębnienia słów kluczowych"
   ]
  },
  {
   "cell_type": "code",
   "execution_count": 31,
   "metadata": {},
   "outputs": [],
   "source": [
    "def znajdz_slowo_klucz(opis_tokenized):\n",
    "    for slowo in słowa_klucz:\n",
    "        if slowo in opis_tokenized:\n",
    "            return slowo\n",
    "    return None\n",
    "\n",
    "df['Słowo_klucz'] = df['Opis oczyszczony'].apply(znajdz_slowo_klucz)\n",
    "df.head()"
   ]
  },
  {
   "cell_type": "code",
   "execution_count": 33,
   "metadata": {},
   "outputs": [],
   "source": [
    "słowa_klucz1=['centrum','śródmieście','srodmiescie']\n",
    "\n",
    "oferta=df['Nazwa oferty']\n",
    "\n",
    "df['Nazwa oferty1'] = oferta.apply(clean_text)"
   ]
  },
  {
   "cell_type": "code",
   "execution_count": 34,
   "metadata": {},
   "outputs": [],
   "source": [
    "def znajdz_slowo_klucz(opis_tokenized):\n",
    "    for slowo in słowa_klucz1:\n",
    "        if slowo in opis_tokenized:\n",
    "            return slowo\n",
    "    return None\n",
    "\n",
    "df['Słowo_klucz1'] = df['Nazwa oferty1'].apply(znajdz_slowo_klucz)"
   ]
  },
  {
   "cell_type": "markdown",
   "metadata": {},
   "source": [
    "##### 6. Zastąpienie braków danych w kolumnie 'Dzielnica'"
   ]
  },
  {
   "cell_type": "markdown",
   "metadata": {},
   "source": [
    "Brak danych w kolumnie 'Dzielnica' zoastły zastąpione słowami kluczowym, a więc brakującymi nazwami dzielnic oraz zmieniono wyrazy aby zaczynały się z dużej litery, jak pozostały nazwy w kolumnie."
   ]
  },
  {
   "cell_type": "code",
   "execution_count": 35,
   "metadata": {},
   "outputs": [],
   "source": [
    "df['Dzielnica'] = df.apply(lambda row: row['Słowo_klucz'] if pd.isna(row['Dzielnica']) else row['Dzielnica'], axis=1).str.title()\n",
    "df['Dzielnica'] = df.apply(lambda row: row['Słowo_klucz1'] if pd.isna(row['Dzielnica']) else row['Dzielnica'], axis=1).str.title()"
   ]
  },
  {
   "cell_type": "code",
   "execution_count": 37,
   "metadata": {},
   "outputs": [
    {
     "data": {
      "text/plain": [
       "['Bogucice',\n",
       " 'Giszowiec',\n",
       " None,\n",
       " 'Murcki',\n",
       " 'Koszutka',\n",
       " 'Janów-Nikiszowiec',\n",
       " 'Kostuchna',\n",
       " 'Ligota-Panewniki',\n",
       " 'Osiedle Tysiąclecia',\n",
       " 'Śródmieście',\n",
       " 'Ligota',\n",
       " 'Piotrowice-Ochojec',\n",
       " 'Osiedle Witosa',\n",
       " 'Brynów-Cz. Wsch.-Osiedle Zgrzebioka',\n",
       " 'Paderewskiego',\n",
       " 'Szopienice-Burowiec',\n",
       " 'Wełnowiec-Józefowiec',\n",
       " 'Załęże',\n",
       " 'Centrum',\n",
       " 'Brynowie',\n",
       " 'Dąb',\n",
       " 'Zawodzie',\n",
       " 'Dąbrówka Mała',\n",
       " 'Muchowiec',\n",
       " 'Bogucicach',\n",
       " 'Podlesie',\n",
       " 'Osiedle Paderewskiego-Muchowiec']"
      ]
     },
     "execution_count": 37,
     "metadata": {},
     "output_type": "execute_result"
    }
   ],
   "source": [
    "dzielnice = df['Dzielnica'].unique().tolist()\n",
    "dzielnice"
   ]
  },
  {
   "cell_type": "markdown",
   "metadata": {},
   "source": [
    "Usunięcie zbędnych kolumn\n"
   ]
  },
  {
   "cell_type": "code",
   "execution_count": 38,
   "metadata": {},
   "outputs": [],
   "source": [
    "df = df.drop('Słowo_klucz', axis=1)\n",
    "df = df.drop('Słowo_klucz1', axis=1)\n",
    "df = df.drop('Nazwa oferty1', axis=1)"
   ]
  },
  {
   "cell_type": "markdown",
   "metadata": {},
   "source": [
    "Z uwagi na to, iż uzupełnione braki sa skróconymi nazwami dzielnic, zmieniono je na pełne nazwy. Dodatkowo algorytm nie odnalazł wszystkich brakujących nazw dzielnic, prawdopodbnie na unikalne przeształcenia nazw, które są używane przez ogłaszjących. Z tego względu, aby unikąc możliwych problemów poczas dlaszej analizy, usunięto także braki danych. A  Brynów zaklasyfikowano jako 1."
   ]
  },
  {
   "cell_type": "code",
   "execution_count": 39,
   "metadata": {},
   "outputs": [],
   "source": [
    "\n",
    "# Zamiana na pełne nazwy dzielnic \n",
    "df['Dzielnica'] = df['Dzielnica'].replace({\n",
    "    'Ligota': 'Ligota-Panewniki',\n",
    "    'Centrum': 'Śródmieście',\n",
    "    'Srodmiescie': 'Śródmieście',\n",
    "    'Brynow': 'Brynów',\n",
    "    'Brynowie': 'Brynów',\n",
    "    'Brynów-Cz. Wsch.-Osiedle Zgrzebioka':'Brynów',\n",
    "    'Załęska Hałda-Brynów Cz. Zach.':'Brynów',\n",
    "    'Zaleze': 'Załęże',\n",
    "    'Tysiaclecia': 'Osiedle Tysiąclecia',\n",
    "    'Paderewskiego': 'Osiedle Paderewskiego-Muchowiec',\n",
    "    'Osiedle Paderewskiego': 'Osiedle Paderewskiego-Muchowiec',\n",
    "    'Muchowiec': 'Osiedle Paderewskiego-Muchowiec',\n",
    "    'Osiedle Paderewskiego': 'Osiedle Paderewskiego-Muchowiec',\n",
    "    'Dab': 'Dąb',\n",
    "    'Bogucicach': 'Bogucice'\n",
    "\n",
    "})"
   ]
  },
  {
   "cell_type": "code",
   "execution_count": 40,
   "metadata": {},
   "outputs": [
    {
     "data": {
      "text/plain": [
       "Liczba pokoi\n",
       "2    152\n",
       "3    142\n",
       "1     41\n",
       "4     31\n",
       "5      7\n",
       "6      1\n",
       "Name: count, dtype: int64"
      ]
     },
     "execution_count": 40,
     "metadata": {},
     "output_type": "execute_result"
    }
   ],
   "source": [
    "location_counts = df['Liczba pokoi'].value_counts()\n",
    "location_counts"
   ]
  },
  {
   "cell_type": "code",
   "execution_count": 41,
   "metadata": {},
   "outputs": [
    {
     "data": {
      "text/plain": [
       "Dzielnica\n",
       "Koszutka                           64\n",
       "Śródmieście                        46\n",
       "Piotrowice-Ochojec                 39\n",
       "Ligota-Panewniki                   33\n",
       "Wełnowiec-Józefowiec               22\n",
       "Osiedle Tysiąclecia                19\n",
       "Kostuchna                          16\n",
       "Janów-Nikiszowiec                  13\n",
       "Bogucice                           12\n",
       "Załęże                             10\n",
       "Dąb                                 9\n",
       "Brynów                              7\n",
       "Murcki                              7\n",
       "Giszowiec                           6\n",
       "Osiedle Paderewskiego-Muchowiec     6\n",
       "Dąbrówka Mała                       6\n",
       "Zawodzie                            5\n",
       "Osiedle Witosa                      3\n",
       "Szopienice-Burowiec                 2\n",
       "Podlesie                            1\n",
       "Name: count, dtype: int64"
      ]
     },
     "execution_count": 41,
     "metadata": {},
     "output_type": "execute_result"
    }
   ],
   "source": [
    "location_counts = df['Dzielnica'].value_counts()\n",
    "location_counts"
   ]
  },
  {
   "cell_type": "code",
   "execution_count": 42,
   "metadata": {},
   "outputs": [],
   "source": [
    "df['Poziom'] = df['Poziom'].replace({\n",
    "    'parter': 'Parter',\n",
    "    'Powyżej 10':'> 10'\n",
    "})"
   ]
  },
  {
   "cell_type": "code",
   "execution_count": 43,
   "metadata": {},
   "outputs": [],
   "source": [
    "df= df.dropna()"
   ]
  },
  {
   "cell_type": "code",
   "execution_count": 44,
   "metadata": {},
   "outputs": [
    {
     "data": {
      "text/plain": [
       "326"
      ]
     },
     "execution_count": 44,
     "metadata": {},
     "output_type": "execute_result"
    }
   ],
   "source": [
    "df.shape[0]"
   ]
  },
  {
   "cell_type": "code",
   "execution_count": 45,
   "metadata": {},
   "outputs": [],
   "source": [
    "df = df.drop(df.columns[0], axis=1)"
   ]
  },
  {
   "cell_type": "code",
   "execution_count": 47,
   "metadata": {},
   "outputs": [],
   "source": [
    "df.drop(16, inplace=True) # usunięcie tej wartosci 171\n"
   ]
  },
  {
   "cell_type": "code",
   "execution_count": 48,
   "metadata": {},
   "outputs": [
    {
     "data": {
      "text/plain": [
       "325"
      ]
     },
     "execution_count": 48,
     "metadata": {},
     "output_type": "execute_result"
    }
   ],
   "source": [
    "df.shape[0]"
   ]
  },
  {
   "cell_type": "markdown",
   "metadata": {},
   "source": [
    "#### VI. Sprawdzenie i zmiana typu danych"
   ]
  },
  {
   "cell_type": "code",
   "execution_count": 49,
   "metadata": {},
   "outputs": [
    {
     "name": "stdout",
     "output_type": "stream",
     "text": [
      "<class 'pandas.core.frame.DataFrame'>\n",
      "Index: 325 entries, 0 to 373\n",
      "Data columns (total 13 columns):\n",
      " #   Column             Non-Null Count  Dtype \n",
      "---  ------             --------------  ----- \n",
      " 0   Nazwa oferty       325 non-null    object\n",
      " 1   Lokalizacja        325 non-null    object\n",
      " 2   Data dodania       325 non-null    object\n",
      " 3   Powierzchnia w m²  325 non-null    object\n",
      " 4   Cena za 1m²        325 non-null    object\n",
      " 5   Kwota              325 non-null    object\n",
      " 6   Link               325 non-null    object\n",
      " 7   Poziom             325 non-null    object\n",
      " 8   Umeblowane         325 non-null    object\n",
      " 9   Liczba pokoi       325 non-null    object\n",
      " 10  Opis               325 non-null    object\n",
      " 11  Dzielnica          325 non-null    object\n",
      " 12  Opis oczyszczony   325 non-null    object\n",
      "dtypes: object(13)\n",
      "memory usage: 35.5+ KB\n"
     ]
    }
   ],
   "source": [
    "df.info()"
   ]
  },
  {
   "cell_type": "code",
   "execution_count": 50,
   "metadata": {},
   "outputs": [],
   "source": [
    "df['Powierzchnia w m²'] = df['Powierzchnia w m²'].str.replace(',', '.')\n",
    "df['Powierzchnia w m²'] = pd.to_numeric(df['Powierzchnia w m²'], errors='coerce')\n",
    "\n",
    "df['Kwota'] = df['Kwota'].str.replace(' ', '').str.replace(',', '.')\n",
    "df['Kwota'] = pd.to_numeric(df['Kwota'], errors='coerce')\n",
    "\n",
    "df['Cena za 1m²'] = pd.to_numeric(df['Cena za 1m²'], errors='coerce')\n",
    "\n",
    "df['Liczba pokoi'] = pd.to_numeric(df['Liczba pokoi'], errors='coerce')"
   ]
  },
  {
   "cell_type": "code",
   "execution_count": 54,
   "metadata": {},
   "outputs": [],
   "source": [
    "\n",
    "df['Data dodania'] = df['Data dodania'].apply(lambda x: dateparser.parse(x, languages=['pl']) if pd.notna(x) else pd.NaT)"
   ]
  },
  {
   "cell_type": "code",
   "execution_count": 56,
   "metadata": {},
   "outputs": [
    {
     "name": "stdout",
     "output_type": "stream",
     "text": [
      "<class 'pandas.core.frame.DataFrame'>\n",
      "Index: 325 entries, 0 to 373\n",
      "Data columns (total 13 columns):\n",
      " #   Column             Non-Null Count  Dtype         \n",
      "---  ------             --------------  -----         \n",
      " 0   Nazwa oferty       325 non-null    object        \n",
      " 1   Lokalizacja        325 non-null    object        \n",
      " 2   Data dodania       325 non-null    datetime64[ns]\n",
      " 3   Powierzchnia w m²  325 non-null    float64       \n",
      " 4   Cena za 1m²        325 non-null    float64       \n",
      " 5   Kwota              325 non-null    int64         \n",
      " 6   Link               325 non-null    object        \n",
      " 7   Poziom             325 non-null    object        \n",
      " 8   Umeblowane         325 non-null    object        \n",
      " 9   Liczba pokoi       325 non-null    int64         \n",
      " 10  Opis               325 non-null    object        \n",
      " 11  Dzielnica          325 non-null    object        \n",
      " 12  Opis oczyszczony   325 non-null    object        \n",
      "dtypes: datetime64[ns](1), float64(2), int64(2), object(8)\n",
      "memory usage: 35.5+ KB\n"
     ]
    }
   ],
   "source": [
    "df.info()"
   ]
  },
  {
   "cell_type": "markdown",
   "metadata": {},
   "source": [
    "#### VII. Zapisanie danych do CSV"
   ]
  },
  {
   "cell_type": "code",
   "execution_count": 57,
   "metadata": {},
   "outputs": [],
   "source": [
    "df.to_csv('Cleaned_df_17g_stare_nowe_cleaned3.csv')"
   ]
  }
 ],
 "metadata": {
  "kernelspec": {
   "display_name": "Python 3",
   "language": "python",
   "name": "python3"
  },
  "language_info": {
   "codemirror_mode": {
    "name": "ipython",
    "version": 3
   },
   "file_extension": ".py",
   "mimetype": "text/x-python",
   "name": "python",
   "nbconvert_exporter": "python",
   "pygments_lexer": "ipython3",
   "version": "3.12.1"
  }
 },
 "nbformat": 4,
 "nbformat_minor": 2
}
